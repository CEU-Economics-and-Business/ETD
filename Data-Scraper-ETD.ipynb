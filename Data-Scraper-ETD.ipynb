{
 "cells": [
  {
   "cell_type": "code",
   "execution_count": 1,
   "metadata": {},
   "outputs": [],
   "source": [
    "import requests\n",
    "import pandas as pd\n",
    "from bs4 import BeautifulSoup\n",
    "from fake_useragent import UserAgent\n",
    "import re\n",
    "\n",
    "ua=UserAgent()"
   ]
  },
  {
   "cell_type": "code",
   "execution_count": 9,
   "metadata": {},
   "outputs": [],
   "source": [
    "request = requests.get(\n",
    "    \"https://library.ceu.edu/ceu-library/electronic-theses-and-dissertations-etds/\",\n",
    "    headers={\n",
    "        \"User-Agent\": \"Mozilla/5.0 (Macintosh; Intel Mac OS X 10_10_1) AppleWebKit/537.36 (KHTML, like Gecko) Chrome/39.0.2171.95 Safari/537.36\"\n",
    "    },\n",
    ")"
   ]
  },
  {
   "cell_type": "code",
   "execution_count": 14,
   "metadata": {},
   "outputs": [],
   "source": [
    "soup=BeautifulSoup(request.content)"
   ]
  },
  {
   "cell_type": "code",
   "execution_count": 20,
   "metadata": {},
   "outputs": [],
   "source": [
    "departments = soup.find(\n",
    "    \"div\", {\"class\": \"et_pb_module et_pb_accordion et_pb_accordion_0\"}\n",
    ")"
   ]
  },
  {
   "cell_type": "code",
   "execution_count": 89,
   "metadata": {},
   "outputs": [],
   "source": [
    "records = []\n",
    "for dep in departments.find_all(\"div\", {\"class\": \"et_pb_accordion_item\"}):\n",
    "    records += [\n",
    "        {\n",
    "            \"department\": dep.find(\"h5\").get_text(),\n",
    "            \"text\": i.get_text(),\n",
    "            \"links\": i.find_all(\"a\"),\n",
    "        }\n",
    "        for i in dep.find_all(\"li\")\n",
    "    ]\n",
    "df_content = pd.DataFrame.from_records(records)"
   ]
  },
  {
   "cell_type": "code",
   "execution_count": 99,
   "metadata": {},
   "outputs": [],
   "source": [
    "full_content = (\n",
    "    pd.DataFrame(\n",
    "        df_content.set_index([\"department\", \"text\"]).links.apply(pd.Series).stack()\n",
    "    )\n",
    "    .reset_index()\n",
    "    .drop([\"level_2\"], axis=1)\n",
    ")"
   ]
  },
  {
   "cell_type": "code",
   "execution_count": 120,
   "metadata": {},
   "outputs": [],
   "source": [
    "full_content[\"program\"] = full_content[\"text\"].apply(\n",
    "    lambda x: x.strip().split(\" \")[0].split(\":\")[0]\n",
    ")\n",
    "full_content = full_content.drop([\"text\"], axis=1)"
   ]
  },
  {
   "cell_type": "code",
   "execution_count": 121,
   "metadata": {},
   "outputs": [
    {
     "data": {
      "text/plain": [
       "MA          148\n",
       "MSc          28\n",
       "MESPOM       13\n",
       "PhD          13\n",
       "Cultural      5\n",
       "Doctoral      5\n",
       "Business      2\n",
       "Name: program, dtype: int64"
      ]
     },
     "execution_count": 121,
     "metadata": {},
     "output_type": "execute_result"
    }
   ],
   "source": [
    "full_content['program'].value_counts()"
   ]
  },
  {
   "cell_type": "markdown",
   "metadata": {},
   "source": [
    "#### Dropping doctoral school, because it's the same as the department phd all year"
   ]
  },
  {
   "cell_type": "code",
   "execution_count": 135,
   "metadata": {},
   "outputs": [],
   "source": [
    "full_content = full_content.loc[\n",
    "    full_content.department != \"Doctoral School\",\n",
    "]\n",
    "full_content=full_content.rename({0:\"lib\"},axis=1)"
   ]
  },
  {
   "cell_type": "code",
   "execution_count": 139,
   "metadata": {},
   "outputs": [],
   "source": [
    "full_content['lib_link']=full_content['lib'].apply(lambda x: x.get('href'))\n",
    "full_content['year']=full_content['lib'].apply(lambda x: x.get_text())\n",
    "full_content.drop(\"lib\",axis=1, inplace=True)"
   ]
  },
  {
   "cell_type": "code",
   "execution_count": 140,
   "metadata": {
    "scrolled": false
   },
   "outputs": [
    {
     "data": {
      "text/html": [
       "<div>\n",
       "<style scoped>\n",
       "    .dataframe tbody tr th:only-of-type {\n",
       "        vertical-align: middle;\n",
       "    }\n",
       "\n",
       "    .dataframe tbody tr th {\n",
       "        vertical-align: top;\n",
       "    }\n",
       "\n",
       "    .dataframe thead th {\n",
       "        text-align: right;\n",
       "    }\n",
       "</style>\n",
       "<table border=\"1\" class=\"dataframe\">\n",
       "  <thead>\n",
       "    <tr style=\"text-align: right;\">\n",
       "      <th></th>\n",
       "      <th>department</th>\n",
       "      <th>program</th>\n",
       "      <th>lib_link</th>\n",
       "      <th>year</th>\n",
       "    </tr>\n",
       "  </thead>\n",
       "  <tbody>\n",
       "    <tr>\n",
       "      <th>0</th>\n",
       "      <td>Economics</td>\n",
       "      <td>MA</td>\n",
       "      <td>http://tinyurl.com/gplxltt</td>\n",
       "      <td>2007</td>\n",
       "    </tr>\n",
       "    <tr>\n",
       "      <th>1</th>\n",
       "      <td>Economics</td>\n",
       "      <td>MA</td>\n",
       "      <td>http://tinyurl.com/gvl9sme</td>\n",
       "      <td>2008</td>\n",
       "    </tr>\n",
       "    <tr>\n",
       "      <th>2</th>\n",
       "      <td>Economics</td>\n",
       "      <td>MA</td>\n",
       "      <td>http://tinyurl.com/jzftq5t</td>\n",
       "      <td>2009</td>\n",
       "    </tr>\n",
       "    <tr>\n",
       "      <th>3</th>\n",
       "      <td>Economics</td>\n",
       "      <td>MA</td>\n",
       "      <td>http://tinyurl.com/j5zcywm</td>\n",
       "      <td>2010</td>\n",
       "    </tr>\n",
       "    <tr>\n",
       "      <th>4</th>\n",
       "      <td>Economics</td>\n",
       "      <td>MA</td>\n",
       "      <td>http://tinyurl.com/hu8k6l7</td>\n",
       "      <td>2011</td>\n",
       "    </tr>\n",
       "    <tr>\n",
       "      <th>...</th>\n",
       "      <td>...</td>\n",
       "      <td>...</td>\n",
       "      <td>...</td>\n",
       "      <td>...</td>\n",
       "    </tr>\n",
       "    <tr>\n",
       "      <th>204</th>\n",
       "      <td>Sociology</td>\n",
       "      <td>MSc</td>\n",
       "      <td>http://tinyurl.com/socmsc2017</td>\n",
       "      <td>2017</td>\n",
       "    </tr>\n",
       "    <tr>\n",
       "      <th>205</th>\n",
       "      <td>Sociology</td>\n",
       "      <td>MSc</td>\n",
       "      <td>https://tinyurl.com/socma2018</td>\n",
       "      <td>2018</td>\n",
       "    </tr>\n",
       "    <tr>\n",
       "      <th>206</th>\n",
       "      <td>Sociology</td>\n",
       "      <td>MSc</td>\n",
       "      <td>https://tinyurl.com/socma2019</td>\n",
       "      <td>2019</td>\n",
       "    </tr>\n",
       "    <tr>\n",
       "      <th>207</th>\n",
       "      <td>Sociology</td>\n",
       "      <td>MSc</td>\n",
       "      <td>https://tinyurl.com/socma2020</td>\n",
       "      <td>2020</td>\n",
       "    </tr>\n",
       "    <tr>\n",
       "      <th>208</th>\n",
       "      <td>Sociology</td>\n",
       "      <td>PhD</td>\n",
       "      <td>http://tinyurl.com/kqqlj35</td>\n",
       "      <td>PhD (all years)</td>\n",
       "    </tr>\n",
       "  </tbody>\n",
       "</table>\n",
       "<p>209 rows × 4 columns</p>\n",
       "</div>"
      ],
      "text/plain": [
       "    department program                       lib_link             year\n",
       "0    Economics      MA     http://tinyurl.com/gplxltt             2007\n",
       "1    Economics      MA     http://tinyurl.com/gvl9sme             2008\n",
       "2    Economics      MA     http://tinyurl.com/jzftq5t             2009\n",
       "3    Economics      MA     http://tinyurl.com/j5zcywm             2010\n",
       "4    Economics      MA     http://tinyurl.com/hu8k6l7             2011\n",
       "..         ...     ...                            ...              ...\n",
       "204  Sociology     MSc  http://tinyurl.com/socmsc2017             2017\n",
       "205  Sociology     MSc  https://tinyurl.com/socma2018             2018\n",
       "206  Sociology     MSc  https://tinyurl.com/socma2019             2019\n",
       "207  Sociology     MSc  https://tinyurl.com/socma2020             2020\n",
       "208  Sociology     PhD     http://tinyurl.com/kqqlj35  PhD (all years)\n",
       "\n",
       "[209 rows x 4 columns]"
      ]
     },
     "execution_count": 140,
     "metadata": {},
     "output_type": "execute_result"
    }
   ],
   "source": [
    "full_content"
   ]
  },
  {
   "cell_type": "code",
   "execution_count": 172,
   "metadata": {},
   "outputs": [],
   "source": [
    "def getpages(link):\n",
    "    try:\n",
    "        page=BeautifulSoup(requests.get(link.replace('+',\"\")).content)\n",
    "        num=len([page.get_text() for page in page.find(\"td\",{\"class\": \"browsePager\"}).find_all('a')][:-1])\n",
    "    except AttributeError:\n",
    "        num=0\n",
    "    except: \n",
    "        print(link)\n",
    "        num=0\n",
    "    return 1+num"
   ]
  },
  {
   "cell_type": "code",
   "execution_count": 2,
   "metadata": {},
   "outputs": [
    {
     "name": "stderr",
     "output_type": "stream",
     "text": [
      "/home/jbiro/.local/lib/python3.8/site-packages/tqdm/std.py:668: FutureWarning: The Panel class is removed from pandas. Accessing it from the top-level namespace will also be removed in the next version\n",
      "  from pandas import Panel\n"
     ]
    }
   ],
   "source": [
    "from tqdm.notebook import tqdm\n",
    "tqdm.pandas()"
   ]
  },
  {
   "cell_type": "code",
   "execution_count": 173,
   "metadata": {},
   "outputs": [
    {
     "data": {
      "application/vnd.jupyter.widget-view+json": {
       "model_id": "247eeb9b6c8a4010b902ceabb9b838b5",
       "version_major": 2,
       "version_minor": 0
      },
      "text/plain": [
       "HBox(children=(FloatProgress(value=0.0, max=209.0), HTML(value='')))"
      ]
     },
     "metadata": {},
     "output_type": "display_data"
    },
    {
     "name": "stdout",
     "output_type": "stream",
     "text": [
      "http://tinyurl.co+m/j87lccu\n",
      "\n"
     ]
    }
   ],
   "source": [
    "full_content['pages_on_lib']=full_content.lib_link.progress_apply(lambda x: getpages(x))"
   ]
  },
  {
   "cell_type": "code",
   "execution_count": 176,
   "metadata": {},
   "outputs": [],
   "source": [
    "page=BeautifulSoup(requests.get(full_content.lib_link[12]).content)"
   ]
  },
  {
   "cell_type": "code",
   "execution_count": 177,
   "metadata": {},
   "outputs": [
    {
     "data": {
      "text/plain": [
       "['2']"
      ]
     },
     "execution_count": 177,
     "metadata": {},
     "output_type": "execute_result"
    }
   ],
   "source": [
    "[page.get_text() for page in page.find(\"td\",{\"class\": \"browsePager\"}).find_all('a')][:-1]"
   ]
  },
  {
   "cell_type": "code",
   "execution_count": 192,
   "metadata": {},
   "outputs": [],
   "source": [
    "def theses_link_crawler(link):\n",
    "    page = BeautifulSoup(requests.get(link).content)\n",
    "    titles=page.find_all(\n",
    "        \"span\", {\"class\": \"briefcitTitle\"}\n",
    "    )\n",
    "    try:\n",
    "        pages=[x.get('href') for x in page.find(\"td\",{\"class\": \"browsePager\"}).find_all('a')][:-1]\n",
    "        print(\"more page found at \", link)\n",
    "    except:\n",
    "        pages=[]\n",
    "    \n",
    "    links=[x.find(\"a\").get(\"href\") for x in titles]\n",
    "    if len(pages)!=0:\n",
    "        for more in pages:\n",
    "            links+=[x.find(\"a\").get(\"href\") for x in BeautifulSoup(requests.get(\"https://sierra.ceu.edu/\"+more).content).find_all(\n",
    "        \"span\", {\"class\": \"briefcitTitle\"}\n",
    "    )]\n",
    "    return links\n",
    "        \n",
    "    "
   ]
  },
  {
   "cell_type": "code",
   "execution_count": 194,
   "metadata": {},
   "outputs": [
    {
     "data": {
      "application/vnd.jupyter.widget-view+json": {
       "model_id": "1dfbd592b4b1419398d10990285c9273",
       "version_major": 2,
       "version_minor": 0
      },
      "text/plain": [
       "HBox(children=(FloatProgress(value=0.0, max=209.0), HTML(value='')))"
      ]
     },
     "metadata": {},
     "output_type": "display_data"
    },
    {
     "name": "stdout",
     "output_type": "stream",
     "text": [
      "more page found at  https://tinyurl.com/ecoma2018\n",
      "more page found at  https://tinyurl.com/ecoma2019\n",
      "more page found at  http://tinyurl.com/ycayjpm\n",
      "more page found at  http://tinyurl.com/legalm2008\n",
      "more page found at  http://tinyurl.com/legalm2010\n",
      "more page found at  http://tinyurl.com/legalm2012\n",
      "more page found at  http://tinyurl.com/legalm2013\n",
      "more page found at  http://tinyurl.com/legalma2014\n",
      "more page found at  http://tinyurl.com/legalma2015\n",
      "more page found at  http://tinyurl.com/legalma2016\n",
      "more page found at  http://tinyurl.com/legalma2017\n",
      "more page found at  https://tinyurl.com/legalma2018\n",
      "more page found at  https://tinyurl.com/legalma2020\n",
      "more page found at  http://tinyurl.com/cysrae\n",
      "more page found at  http://tinyurl.com/c9f9lq\n",
      "more page found at  http://tinyurl.com/gp2hv3f\n",
      "more page found at  http://tinyurl.com/grxlbt5\n",
      "more page found at  http://tinyurl.com/asr6lx\n",
      "\n"
     ]
    }
   ],
   "source": [
    "full_content[\"theses_links_all\"]=full_content.lib_link.progress_apply(lambda x: theses_link_crawler(x.replace('+','')))"
   ]
  },
  {
   "cell_type": "code",
   "execution_count": 196,
   "metadata": {},
   "outputs": [],
   "source": [
    "full_content['number_of_thesis']=full_content.theses_links_all.apply(lambda x: len(x))"
   ]
  },
  {
   "cell_type": "code",
   "execution_count": 203,
   "metadata": {},
   "outputs": [
    {
     "data": {
      "text/html": [
       "<div>\n",
       "<style scoped>\n",
       "    .dataframe tbody tr th:only-of-type {\n",
       "        vertical-align: middle;\n",
       "    }\n",
       "\n",
       "    .dataframe tbody tr th {\n",
       "        vertical-align: top;\n",
       "    }\n",
       "\n",
       "    .dataframe thead th {\n",
       "        text-align: right;\n",
       "    }\n",
       "</style>\n",
       "<table border=\"1\" class=\"dataframe\">\n",
       "  <thead>\n",
       "    <tr style=\"text-align: right;\">\n",
       "      <th></th>\n",
       "      <th>department</th>\n",
       "      <th>program</th>\n",
       "      <th>lib_link</th>\n",
       "      <th>year</th>\n",
       "      <th>pages_on_lib</th>\n",
       "      <th>theses_links_all</th>\n",
       "      <th>number_of_thesis</th>\n",
       "    </tr>\n",
       "  </thead>\n",
       "  <tbody>\n",
       "    <tr>\n",
       "      <th>0</th>\n",
       "      <td>Economics</td>\n",
       "      <td>MA</td>\n",
       "      <td>http://tinyurl.com/gplxltt</td>\n",
       "      <td>2007</td>\n",
       "      <td>1</td>\n",
       "      <td>[/search?/X+%22CEU+Economics+Department+master...</td>\n",
       "      <td>35</td>\n",
       "    </tr>\n",
       "    <tr>\n",
       "      <th>1</th>\n",
       "      <td>Economics</td>\n",
       "      <td>MA</td>\n",
       "      <td>http://tinyurl.com/gvl9sme</td>\n",
       "      <td>2008</td>\n",
       "      <td>1</td>\n",
       "      <td>[/search?/X+%22CEU+Economics+Department+master...</td>\n",
       "      <td>33</td>\n",
       "    </tr>\n",
       "    <tr>\n",
       "      <th>2</th>\n",
       "      <td>Economics</td>\n",
       "      <td>MA</td>\n",
       "      <td>http://tinyurl.com/jzftq5t</td>\n",
       "      <td>2009</td>\n",
       "      <td>1</td>\n",
       "      <td>[/search?/X+%22CEU+Economics+Department+master...</td>\n",
       "      <td>36</td>\n",
       "    </tr>\n",
       "    <tr>\n",
       "      <th>3</th>\n",
       "      <td>Economics</td>\n",
       "      <td>MA</td>\n",
       "      <td>http://tinyurl.com/j5zcywm</td>\n",
       "      <td>2010</td>\n",
       "      <td>1</td>\n",
       "      <td>[/search?/X+%22CEU+Economics+Department+master...</td>\n",
       "      <td>38</td>\n",
       "    </tr>\n",
       "    <tr>\n",
       "      <th>4</th>\n",
       "      <td>Economics</td>\n",
       "      <td>MA</td>\n",
       "      <td>http://tinyurl.com/hu8k6l7</td>\n",
       "      <td>2011</td>\n",
       "      <td>1</td>\n",
       "      <td>[/search?/X+%22CEU+Economics+Department+master...</td>\n",
       "      <td>38</td>\n",
       "    </tr>\n",
       "    <tr>\n",
       "      <th>...</th>\n",
       "      <td>...</td>\n",
       "      <td>...</td>\n",
       "      <td>...</td>\n",
       "      <td>...</td>\n",
       "      <td>...</td>\n",
       "      <td>...</td>\n",
       "      <td>...</td>\n",
       "    </tr>\n",
       "    <tr>\n",
       "      <th>204</th>\n",
       "      <td>Sociology</td>\n",
       "      <td>MSc</td>\n",
       "      <td>http://tinyurl.com/socmsc2017</td>\n",
       "      <td>2017</td>\n",
       "      <td>1</td>\n",
       "      <td>[/search?/X%22CEU+Sociology+Department+master+...</td>\n",
       "      <td>28</td>\n",
       "    </tr>\n",
       "    <tr>\n",
       "      <th>205</th>\n",
       "      <td>Sociology</td>\n",
       "      <td>MSc</td>\n",
       "      <td>https://tinyurl.com/socma2018</td>\n",
       "      <td>2018</td>\n",
       "      <td>1</td>\n",
       "      <td>[/search?/X%22CEU+Sociology+Department+master+...</td>\n",
       "      <td>22</td>\n",
       "    </tr>\n",
       "    <tr>\n",
       "      <th>206</th>\n",
       "      <td>Sociology</td>\n",
       "      <td>MSc</td>\n",
       "      <td>https://tinyurl.com/socma2019</td>\n",
       "      <td>2019</td>\n",
       "      <td>1</td>\n",
       "      <td>[/search?/X%22CEU+Sociology+Department+master+...</td>\n",
       "      <td>27</td>\n",
       "    </tr>\n",
       "    <tr>\n",
       "      <th>207</th>\n",
       "      <td>Sociology</td>\n",
       "      <td>MSc</td>\n",
       "      <td>https://tinyurl.com/socma2020</td>\n",
       "      <td>2020</td>\n",
       "      <td>1</td>\n",
       "      <td>[/search?/X%22CEU+Sociology+Department+master+...</td>\n",
       "      <td>27</td>\n",
       "    </tr>\n",
       "    <tr>\n",
       "      <th>208</th>\n",
       "      <td>Sociology</td>\n",
       "      <td>PhD</td>\n",
       "      <td>http://tinyurl.com/kqqlj35</td>\n",
       "      <td>PhD (all years)</td>\n",
       "      <td>1</td>\n",
       "      <td>[/search?/X%22+Sociology+Department%22+PhD&amp;b=&amp;...</td>\n",
       "      <td>36</td>\n",
       "    </tr>\n",
       "  </tbody>\n",
       "</table>\n",
       "<p>209 rows × 7 columns</p>\n",
       "</div>"
      ],
      "text/plain": [
       "    department program                       lib_link             year  \\\n",
       "0    Economics      MA     http://tinyurl.com/gplxltt             2007   \n",
       "1    Economics      MA     http://tinyurl.com/gvl9sme             2008   \n",
       "2    Economics      MA     http://tinyurl.com/jzftq5t             2009   \n",
       "3    Economics      MA     http://tinyurl.com/j5zcywm             2010   \n",
       "4    Economics      MA     http://tinyurl.com/hu8k6l7             2011   \n",
       "..         ...     ...                            ...              ...   \n",
       "204  Sociology     MSc  http://tinyurl.com/socmsc2017             2017   \n",
       "205  Sociology     MSc  https://tinyurl.com/socma2018             2018   \n",
       "206  Sociology     MSc  https://tinyurl.com/socma2019             2019   \n",
       "207  Sociology     MSc  https://tinyurl.com/socma2020             2020   \n",
       "208  Sociology     PhD     http://tinyurl.com/kqqlj35  PhD (all years)   \n",
       "\n",
       "     pages_on_lib                                   theses_links_all  \\\n",
       "0               1  [/search?/X+%22CEU+Economics+Department+master...   \n",
       "1               1  [/search?/X+%22CEU+Economics+Department+master...   \n",
       "2               1  [/search?/X+%22CEU+Economics+Department+master...   \n",
       "3               1  [/search?/X+%22CEU+Economics+Department+master...   \n",
       "4               1  [/search?/X+%22CEU+Economics+Department+master...   \n",
       "..            ...                                                ...   \n",
       "204             1  [/search?/X%22CEU+Sociology+Department+master+...   \n",
       "205             1  [/search?/X%22CEU+Sociology+Department+master+...   \n",
       "206             1  [/search?/X%22CEU+Sociology+Department+master+...   \n",
       "207             1  [/search?/X%22CEU+Sociology+Department+master+...   \n",
       "208             1  [/search?/X%22+Sociology+Department%22+PhD&b=&...   \n",
       "\n",
       "     number_of_thesis  \n",
       "0                  35  \n",
       "1                  33  \n",
       "2                  36  \n",
       "3                  38  \n",
       "4                  38  \n",
       "..                ...  \n",
       "204                28  \n",
       "205                22  \n",
       "206                27  \n",
       "207                27  \n",
       "208                36  \n",
       "\n",
       "[209 rows x 7 columns]"
      ]
     },
     "execution_count": 203,
     "metadata": {},
     "output_type": "execute_result"
    }
   ],
   "source": [
    "full_content"
   ]
  },
  {
   "cell_type": "code",
   "execution_count": 266,
   "metadata": {},
   "outputs": [
    {
     "data": {
      "text/html": [
       "<div>\n",
       "<style scoped>\n",
       "    .dataframe tbody tr th:only-of-type {\n",
       "        vertical-align: middle;\n",
       "    }\n",
       "\n",
       "    .dataframe tbody tr th {\n",
       "        vertical-align: top;\n",
       "    }\n",
       "\n",
       "    .dataframe thead th {\n",
       "        text-align: right;\n",
       "    }\n",
       "</style>\n",
       "<table border=\"1\" class=\"dataframe\">\n",
       "  <thead>\n",
       "    <tr style=\"text-align: right;\">\n",
       "      <th></th>\n",
       "      <th>department</th>\n",
       "      <th>program</th>\n",
       "      <th>lib_link</th>\n",
       "      <th>year</th>\n",
       "      <th>thesis_in_that_year</th>\n",
       "      <th>thesis_link</th>\n",
       "    </tr>\n",
       "  </thead>\n",
       "  <tbody>\n",
       "    <tr>\n",
       "      <th>0</th>\n",
       "      <td>Economics</td>\n",
       "      <td>MA</td>\n",
       "      <td>http://tinyurl.com/gplxltt</td>\n",
       "      <td>2007</td>\n",
       "      <td>35</td>\n",
       "      <td>/search?/X+%22CEU+Economics+Department+master+...</td>\n",
       "    </tr>\n",
       "    <tr>\n",
       "      <th>1</th>\n",
       "      <td>Economics</td>\n",
       "      <td>MA</td>\n",
       "      <td>http://tinyurl.com/gplxltt</td>\n",
       "      <td>2007</td>\n",
       "      <td>35</td>\n",
       "      <td>/search?/X+%22CEU+Economics+Department+master+...</td>\n",
       "    </tr>\n",
       "    <tr>\n",
       "      <th>2</th>\n",
       "      <td>Economics</td>\n",
       "      <td>MA</td>\n",
       "      <td>http://tinyurl.com/gplxltt</td>\n",
       "      <td>2007</td>\n",
       "      <td>35</td>\n",
       "      <td>/search?/X+%22CEU+Economics+Department+master+...</td>\n",
       "    </tr>\n",
       "    <tr>\n",
       "      <th>3</th>\n",
       "      <td>Economics</td>\n",
       "      <td>MA</td>\n",
       "      <td>http://tinyurl.com/gplxltt</td>\n",
       "      <td>2007</td>\n",
       "      <td>35</td>\n",
       "      <td>/search?/X+%22CEU+Economics+Department+master+...</td>\n",
       "    </tr>\n",
       "    <tr>\n",
       "      <th>4</th>\n",
       "      <td>Economics</td>\n",
       "      <td>MA</td>\n",
       "      <td>http://tinyurl.com/gplxltt</td>\n",
       "      <td>2007</td>\n",
       "      <td>35</td>\n",
       "      <td>/search?/X+%22CEU+Economics+Department+master+...</td>\n",
       "    </tr>\n",
       "    <tr>\n",
       "      <th>...</th>\n",
       "      <td>...</td>\n",
       "      <td>...</td>\n",
       "      <td>...</td>\n",
       "      <td>...</td>\n",
       "      <td>...</td>\n",
       "      <td>...</td>\n",
       "    </tr>\n",
       "    <tr>\n",
       "      <th>5820</th>\n",
       "      <td>Sociology</td>\n",
       "      <td>PhD</td>\n",
       "      <td>http://tinyurl.com/kqqlj35</td>\n",
       "      <td>PhD (all years)</td>\n",
       "      <td>36</td>\n",
       "      <td>/search?/X%22+Sociology+Department%22+PhD&amp;b=&amp;l...</td>\n",
       "    </tr>\n",
       "    <tr>\n",
       "      <th>5821</th>\n",
       "      <td>Sociology</td>\n",
       "      <td>PhD</td>\n",
       "      <td>http://tinyurl.com/kqqlj35</td>\n",
       "      <td>PhD (all years)</td>\n",
       "      <td>36</td>\n",
       "      <td>/search?/X%22+Sociology+Department%22+PhD&amp;b=&amp;l...</td>\n",
       "    </tr>\n",
       "    <tr>\n",
       "      <th>5822</th>\n",
       "      <td>Sociology</td>\n",
       "      <td>PhD</td>\n",
       "      <td>http://tinyurl.com/kqqlj35</td>\n",
       "      <td>PhD (all years)</td>\n",
       "      <td>36</td>\n",
       "      <td>/search?/X%22+Sociology+Department%22+PhD&amp;b=&amp;l...</td>\n",
       "    </tr>\n",
       "    <tr>\n",
       "      <th>5823</th>\n",
       "      <td>Sociology</td>\n",
       "      <td>PhD</td>\n",
       "      <td>http://tinyurl.com/kqqlj35</td>\n",
       "      <td>PhD (all years)</td>\n",
       "      <td>36</td>\n",
       "      <td>/search?/X%22+Sociology+Department%22+PhD&amp;b=&amp;l...</td>\n",
       "    </tr>\n",
       "    <tr>\n",
       "      <th>5824</th>\n",
       "      <td>Sociology</td>\n",
       "      <td>PhD</td>\n",
       "      <td>http://tinyurl.com/kqqlj35</td>\n",
       "      <td>PhD (all years)</td>\n",
       "      <td>36</td>\n",
       "      <td>/search?/X%22+Sociology+Department%22+PhD&amp;b=&amp;l...</td>\n",
       "    </tr>\n",
       "  </tbody>\n",
       "</table>\n",
       "<p>5825 rows × 6 columns</p>\n",
       "</div>"
      ],
      "text/plain": [
       "     department program                    lib_link             year  \\\n",
       "0     Economics      MA  http://tinyurl.com/gplxltt             2007   \n",
       "1     Economics      MA  http://tinyurl.com/gplxltt             2007   \n",
       "2     Economics      MA  http://tinyurl.com/gplxltt             2007   \n",
       "3     Economics      MA  http://tinyurl.com/gplxltt             2007   \n",
       "4     Economics      MA  http://tinyurl.com/gplxltt             2007   \n",
       "...         ...     ...                         ...              ...   \n",
       "5820  Sociology     PhD  http://tinyurl.com/kqqlj35  PhD (all years)   \n",
       "5821  Sociology     PhD  http://tinyurl.com/kqqlj35  PhD (all years)   \n",
       "5822  Sociology     PhD  http://tinyurl.com/kqqlj35  PhD (all years)   \n",
       "5823  Sociology     PhD  http://tinyurl.com/kqqlj35  PhD (all years)   \n",
       "5824  Sociology     PhD  http://tinyurl.com/kqqlj35  PhD (all years)   \n",
       "\n",
       "      thesis_in_that_year                                        thesis_link  \n",
       "0                      35  /search?/X+%22CEU+Economics+Department+master+...  \n",
       "1                      35  /search?/X+%22CEU+Economics+Department+master+...  \n",
       "2                      35  /search?/X+%22CEU+Economics+Department+master+...  \n",
       "3                      35  /search?/X+%22CEU+Economics+Department+master+...  \n",
       "4                      35  /search?/X+%22CEU+Economics+Department+master+...  \n",
       "...                   ...                                                ...  \n",
       "5820                   36  /search?/X%22+Sociology+Department%22+PhD&b=&l...  \n",
       "5821                   36  /search?/X%22+Sociology+Department%22+PhD&b=&l...  \n",
       "5822                   36  /search?/X%22+Sociology+Department%22+PhD&b=&l...  \n",
       "5823                   36  /search?/X%22+Sociology+Department%22+PhD&b=&l...  \n",
       "5824                   36  /search?/X%22+Sociology+Department%22+PhD&b=&l...  \n",
       "\n",
       "[5825 rows x 6 columns]"
      ]
     },
     "execution_count": 266,
     "metadata": {},
     "output_type": "execute_result"
    }
   ],
   "source": [
    "theses_full_df = (\n",
    "    pd.DataFrame(\n",
    "        full_content.drop(['pages_on_lib'],axis=1).set_index([\"department\", \"program\",\"lib_link\",\"year\",\"number_of_thesis\"]).theses_links_all.apply(pd.Series).stack()\n",
    "    )\n",
    "    .reset_index()\n",
    "    .drop([\"level_5\"], axis=1).rename({0:\"thesis_link\",\"number_of_thesis\":\"thesis_in_that_year\"},axis=1)\n",
    ")"
   ]
  },
  {
   "cell_type": "code",
   "execution_count": 277,
   "metadata": {},
   "outputs": [
    {
     "data": {
      "text/html": [
       "<div>\n",
       "<style scoped>\n",
       "    .dataframe tbody tr th:only-of-type {\n",
       "        vertical-align: middle;\n",
       "    }\n",
       "\n",
       "    .dataframe tbody tr th {\n",
       "        vertical-align: top;\n",
       "    }\n",
       "\n",
       "    .dataframe thead th {\n",
       "        text-align: right;\n",
       "    }\n",
       "</style>\n",
       "<table border=\"1\" class=\"dataframe\">\n",
       "  <thead>\n",
       "    <tr style=\"text-align: right;\">\n",
       "      <th></th>\n",
       "      <th>department</th>\n",
       "      <th>program</th>\n",
       "      <th>lib_link</th>\n",
       "      <th>year</th>\n",
       "      <th>thesis_in_that_year</th>\n",
       "      <th>thesis_link</th>\n",
       "    </tr>\n",
       "  </thead>\n",
       "  <tbody>\n",
       "    <tr>\n",
       "      <th>396</th>\n",
       "      <td>Economics</td>\n",
       "      <td>MA</td>\n",
       "      <td>https://tinyurl.com/ecoma2018</td>\n",
       "      <td>2018</td>\n",
       "      <td>52</td>\n",
       "      <td>/search?/X(+%22CEU+Economics+Department+master...</td>\n",
       "    </tr>\n",
       "    <tr>\n",
       "      <th>397</th>\n",
       "      <td>Economics</td>\n",
       "      <td>MA</td>\n",
       "      <td>https://tinyurl.com/ecoma2018</td>\n",
       "      <td>2018</td>\n",
       "      <td>52</td>\n",
       "      <td>/search?/X(+%22CEU+Economics+Department+master...</td>\n",
       "    </tr>\n",
       "    <tr>\n",
       "      <th>398</th>\n",
       "      <td>Economics</td>\n",
       "      <td>MA</td>\n",
       "      <td>https://tinyurl.com/ecoma2018</td>\n",
       "      <td>2018</td>\n",
       "      <td>52</td>\n",
       "      <td>/search?/X(+%22CEU+Economics+Department+master...</td>\n",
       "    </tr>\n",
       "    <tr>\n",
       "      <th>399</th>\n",
       "      <td>Economics</td>\n",
       "      <td>MA</td>\n",
       "      <td>https://tinyurl.com/ecoma2018</td>\n",
       "      <td>2018</td>\n",
       "      <td>52</td>\n",
       "      <td>/search?/X(+%22CEU+Economics+Department+master...</td>\n",
       "    </tr>\n",
       "    <tr>\n",
       "      <th>400</th>\n",
       "      <td>Economics</td>\n",
       "      <td>MA</td>\n",
       "      <td>https://tinyurl.com/ecoma2018</td>\n",
       "      <td>2018</td>\n",
       "      <td>52</td>\n",
       "      <td>/search?/X(+%22CEU+Economics+Department+master...</td>\n",
       "    </tr>\n",
       "    <tr>\n",
       "      <th>...</th>\n",
       "      <td>...</td>\n",
       "      <td>...</td>\n",
       "      <td>...</td>\n",
       "      <td>...</td>\n",
       "      <td>...</td>\n",
       "      <td>...</td>\n",
       "    </tr>\n",
       "    <tr>\n",
       "      <th>5820</th>\n",
       "      <td>Sociology</td>\n",
       "      <td>PhD</td>\n",
       "      <td>http://tinyurl.com/kqqlj35</td>\n",
       "      <td>PhD (all years)</td>\n",
       "      <td>36</td>\n",
       "      <td>/search?/X%22+Sociology+Department%22+PhD&amp;b=&amp;l...</td>\n",
       "    </tr>\n",
       "    <tr>\n",
       "      <th>5821</th>\n",
       "      <td>Sociology</td>\n",
       "      <td>PhD</td>\n",
       "      <td>http://tinyurl.com/kqqlj35</td>\n",
       "      <td>PhD (all years)</td>\n",
       "      <td>36</td>\n",
       "      <td>/search?/X%22+Sociology+Department%22+PhD&amp;b=&amp;l...</td>\n",
       "    </tr>\n",
       "    <tr>\n",
       "      <th>5822</th>\n",
       "      <td>Sociology</td>\n",
       "      <td>PhD</td>\n",
       "      <td>http://tinyurl.com/kqqlj35</td>\n",
       "      <td>PhD (all years)</td>\n",
       "      <td>36</td>\n",
       "      <td>/search?/X%22+Sociology+Department%22+PhD&amp;b=&amp;l...</td>\n",
       "    </tr>\n",
       "    <tr>\n",
       "      <th>5823</th>\n",
       "      <td>Sociology</td>\n",
       "      <td>PhD</td>\n",
       "      <td>http://tinyurl.com/kqqlj35</td>\n",
       "      <td>PhD (all years)</td>\n",
       "      <td>36</td>\n",
       "      <td>/search?/X%22+Sociology+Department%22+PhD&amp;b=&amp;l...</td>\n",
       "    </tr>\n",
       "    <tr>\n",
       "      <th>5824</th>\n",
       "      <td>Sociology</td>\n",
       "      <td>PhD</td>\n",
       "      <td>http://tinyurl.com/kqqlj35</td>\n",
       "      <td>PhD (all years)</td>\n",
       "      <td>36</td>\n",
       "      <td>/search?/X%22+Sociology+Department%22+PhD&amp;b=&amp;l...</td>\n",
       "    </tr>\n",
       "  </tbody>\n",
       "</table>\n",
       "<p>1728 rows × 6 columns</p>\n",
       "</div>"
      ],
      "text/plain": [
       "     department program                       lib_link             year  \\\n",
       "396   Economics      MA  https://tinyurl.com/ecoma2018             2018   \n",
       "397   Economics      MA  https://tinyurl.com/ecoma2018             2018   \n",
       "398   Economics      MA  https://tinyurl.com/ecoma2018             2018   \n",
       "399   Economics      MA  https://tinyurl.com/ecoma2018             2018   \n",
       "400   Economics      MA  https://tinyurl.com/ecoma2018             2018   \n",
       "...         ...     ...                            ...              ...   \n",
       "5820  Sociology     PhD     http://tinyurl.com/kqqlj35  PhD (all years)   \n",
       "5821  Sociology     PhD     http://tinyurl.com/kqqlj35  PhD (all years)   \n",
       "5822  Sociology     PhD     http://tinyurl.com/kqqlj35  PhD (all years)   \n",
       "5823  Sociology     PhD     http://tinyurl.com/kqqlj35  PhD (all years)   \n",
       "5824  Sociology     PhD     http://tinyurl.com/kqqlj35  PhD (all years)   \n",
       "\n",
       "      thesis_in_that_year                                        thesis_link  \n",
       "396                    52  /search?/X(+%22CEU+Economics+Department+master...  \n",
       "397                    52  /search?/X(+%22CEU+Economics+Department+master...  \n",
       "398                    52  /search?/X(+%22CEU+Economics+Department+master...  \n",
       "399                    52  /search?/X(+%22CEU+Economics+Department+master...  \n",
       "400                    52  /search?/X(+%22CEU+Economics+Department+master...  \n",
       "...                   ...                                                ...  \n",
       "5820                   36  /search?/X%22+Sociology+Department%22+PhD&b=&l...  \n",
       "5821                   36  /search?/X%22+Sociology+Department%22+PhD&b=&l...  \n",
       "5822                   36  /search?/X%22+Sociology+Department%22+PhD&b=&l...  \n",
       "5823                   36  /search?/X%22+Sociology+Department%22+PhD&b=&l...  \n",
       "5824                   36  /search?/X%22+Sociology+Department%22+PhD&b=&l...  \n",
       "\n",
       "[1728 rows x 6 columns]"
      ]
     },
     "execution_count": 277,
     "metadata": {},
     "output_type": "execute_result"
    }
   ],
   "source": [
    "theses_df=theses_full_df.loc[theses_full_df['year'].isin(['2018','2019','2020','PhD (all years)',' PhD (all years)']),]\n",
    "theses_df"
   ]
  },
  {
   "cell_type": "code",
   "execution_count": 278,
   "metadata": {
    "scrolled": false
   },
   "outputs": [
    {
     "data": {
      "application/vnd.jupyter.widget-view+json": {
       "model_id": "537300be9977439584bd072ff43e2e53",
       "version_major": 2,
       "version_minor": 0
      },
      "text/plain": [
       "HBox(children=(FloatProgress(value=0.0, max=1728.0), HTML(value='')))"
      ]
     },
     "metadata": {},
     "output_type": "display_data"
    },
    {
     "name": "stderr",
     "output_type": "stream",
     "text": [
      "/home/jbiro/.local/lib/python3.8/site-packages/pandas/core/indexing.py:966: SettingWithCopyWarning: \n",
      "A value is trying to be set on a copy of a slice from a DataFrame.\n",
      "Try using .loc[row_indexer,col_indexer] = value instead\n",
      "\n",
      "See the caveats in the documentation: https://pandas.pydata.org/pandas-docs/stable/user_guide/indexing.html#returning-a-view-versus-a-copy\n",
      "  self.obj[item] = s\n",
      "/home/jbiro/.local/lib/python3.8/site-packages/pandas/core/indexing.py:845: SettingWithCopyWarning: \n",
      "A value is trying to be set on a copy of a slice from a DataFrame.\n",
      "Try using .loc[row_indexer,col_indexer] = value instead\n",
      "\n",
      "See the caveats in the documentation: https://pandas.pydata.org/pandas-docs/stable/user_guide/indexing.html#returning-a-view-versus-a-copy\n",
      "  self.obj[key] = _infer_fill_value(value)\n"
     ]
    },
    {
     "name": "stdout",
     "output_type": "stream",
     "text": [
      "no pdf link:  /search?/X(%22CEU+Gender+Studies+Department+master+theses%22)&Da=2018&Db=2018&SORT=AX&m=v/X(%22CEU+Gender+Studies+Department+master+theses%22)&Da=2018&Db=2018&SORT=AX&m=v&SUBKEY=(%22CEU+Gender+Studies+Department+master+theses%22)/1%2C29%2C29%2CB/frameset&FF=X(%22CEU+Gender+Studies+Department+master+theses%22)&Da=2018&Db=2018&SORT=AX&m=v&27%2C27%2C\n",
      "no pdf link:  /search?/X(%22CEU+Gender+Studies+Department+master+theses%22)&Da=2020&Db=2020&SORT=AX&m=v/X(%22CEU+Gender+Studies+Department+master+theses%22)&Da=2020&Db=2020&SORT=AX&m=v&SUBKEY=(%22CEU+Gender+Studies+Department+master+theses%22)/1%2C26%2C26%2CB/frameset&FF=X(%22CEU+Gender+Studies+Department+master+theses%22)&Da=2020&Db=2020&SORT=AX&m=v&15%2C15%2C\n",
      "no pdf link:  /search?/X%22CEU+Gender+Studies+Department+PhD+theses%22&b=&l=&Da=&Db=&p=&m=v&SORT=D/X%22CEU+Gender+Studies+Department+PhD+theses%22&b=&l=&Da=&Db=&p=&m=v&SORT=D&SUBKEY=%22CEU+Gender+Studies+Department+PhD+theses%22/1%2C37%2C37%2CB/frameset&FF=X%22CEU+Gender+Studies+Department+PhD+theses%22&b=&l=&Da=&Db=&p=&m=v&SORT=D&14%2C14%2C\n",
      "no pdf link:  /search?/X%22CEU+History+Department+PhD+theses%22&b=&l=&Da=&Db=&p=&m=v&SORT=D/X%22CEU+History+Department+PhD+theses%22&b=&l=&Da=&Db=&p=&m=v&SORT=D&SUBKEY=%22CEU+History+Department+PhD+theses%22/51%2C60%2C60%2CB/frameset&FF=X%22CEU+History+Department+PhD+theses%22&b=&l=&Da=&Db=&p=&m=v&SORT=D&55%2C55%2C\n",
      "no pdf link:  /search?/X(%22CEU+International+Relations+Department+master+theses%22)&Da=2019&Db=2019&SORT=AX&m=v/X(%22CEU+International+Relations+Department+master+theses%22)&Da=2019&Db=2019&SORT=AX&m=v&SUBKEY=(%22CEU+International+Relations+Department+master+theses%22)/1%2C40%2C40%2CB/frameset&FF=X(%22CEU+International+Relations+Department+master+theses%22)&Da=2019&Db=2019&SORT=AX&m=v&20%2C20%2C\n",
      "no pdf link:  /search?/X(%22CEU+International+Relations+Department+master+theses%22)&Da=2020&Db=2020&SORT=AX&m=v/X(%22CEU+International+Relations+Department+master+theses%22)&Da=2020&Db=2020&SORT=AX&m=v&SUBKEY=(%22CEU+International+Relations+Department+master+theses%22)/1%2C39%2C39%2CB/frameset&FF=X(%22CEU+International+Relations+Department+master+theses%22)&Da=2020&Db=2020&SORT=AX&m=v&26%2C26%2C\n",
      "no pdf link:  /search?/X((%22CEU+Legal+Studies+Department%22+)+and+(%22master+theses%22))&Da=2020&Db=2020&SORTAX&m=v&SORT=D/X((%22CEU+Legal+Studies+Department%22+)+and+(%22master+theses%22))&Da=2020&Db=2020&SORTAX&m=v&SORT=D&SUBKEY=((%22CEU+Legal+Studies+Department%22+)+and+(%22master+theses%22))/1%2C78%2C78%2CB/frameset&FF=X((%22CEU+Legal+Studies+Department%22+)+and+(%22master+theses%22))&Da=2020&Db=2020&SORTAX&m=v&SORT=D&40%2C40%2C\n",
      "no pdf link:  /search?/X%22CEU+Legal+Studies+Department+PhD+theses%22&b=&l=&Da=&Db=&p=&m=v&SORT=D/X%22CEU+Legal+Studies+Department+PhD+theses%22&b=&l=&Da=&Db=&p=&m=v&SORT=D&SUBKEY=%22CEU+Legal+Studies+Department+PhD+theses%22/1%2C42%2C42%2CB/frameset&FF=X%22CEU+Legal+Studies+Department+PhD+theses%22&b=&l=&Da=&Db=&p=&m=v&SORT=D&1%2C1%2C\n",
      "no pdf link:  /search?/X%22CEU+Legal+Studies+Department+PhD+theses%22&b=&l=&Da=&Db=&p=&m=v&SORT=D/X%22CEU+Legal+Studies+Department+PhD+theses%22&b=&l=&Da=&Db=&p=&m=v&SORT=D&SUBKEY=%22CEU+Legal+Studies+Department+PhD+theses%22/1%2C42%2C42%2CB/frameset&FF=X%22CEU+Legal+Studies+Department+PhD+theses%22&b=&l=&Da=&Db=&p=&m=v&SORT=D&2%2C2%2C\n",
      "no pdf link:  /search?/X%22CEU+Legal+Studies+Department+PhD+theses%22&b=&l=&Da=&Db=&p=&m=v&SORT=D/X%22CEU+Legal+Studies+Department+PhD+theses%22&b=&l=&Da=&Db=&p=&m=v&SORT=D&SUBKEY=%22CEU+Legal+Studies+Department+PhD+theses%22/1%2C42%2C42%2CB/frameset&FF=X%22CEU+Legal+Studies+Department+PhD+theses%22&b=&l=&Da=&Db=&p=&m=v&SORT=D&3%2C3%2C\n",
      "no pdf link:  /search?/X%22CEU+Legal+Studies+Department+PhD+theses%22&b=&l=&Da=&Db=&p=&m=v&SORT=D/X%22CEU+Legal+Studies+Department+PhD+theses%22&b=&l=&Da=&Db=&p=&m=v&SORT=D&SUBKEY=%22CEU+Legal+Studies+Department+PhD+theses%22/1%2C42%2C42%2CB/frameset&FF=X%22CEU+Legal+Studies+Department+PhD+theses%22&b=&l=&Da=&Db=&p=&m=v&SORT=D&5%2C5%2C\n",
      "no pdf link:  /search?/X%22CEU+Legal+Studies+Department+PhD+theses%22&b=&l=&Da=&Db=&p=&m=v&SORT=D/X%22CEU+Legal+Studies+Department+PhD+theses%22&b=&l=&Da=&Db=&p=&m=v&SORT=D&SUBKEY=%22CEU+Legal+Studies+Department+PhD+theses%22/1%2C42%2C42%2CB/frameset&FF=X%22CEU+Legal+Studies+Department+PhD+theses%22&b=&l=&Da=&Db=&p=&m=v&SORT=D&6%2C6%2C\n",
      "no pdf link:  /search?/X%22CEU+Legal+Studies+Department+PhD+theses%22&b=&l=&Da=&Db=&p=&m=v&SORT=D/X%22CEU+Legal+Studies+Department+PhD+theses%22&b=&l=&Da=&Db=&p=&m=v&SORT=D&SUBKEY=%22CEU+Legal+Studies+Department+PhD+theses%22/1%2C42%2C42%2CB/frameset&FF=X%22CEU+Legal+Studies+Department+PhD+theses%22&b=&l=&Da=&Db=&p=&m=v&SORT=D&9%2C9%2C\n",
      "no pdf link:  /search?/X%22CEU+Legal+Studies+Department+PhD+theses%22&b=&l=&Da=&Db=&p=&m=v&SORT=D/X%22CEU+Legal+Studies+Department+PhD+theses%22&b=&l=&Da=&Db=&p=&m=v&SORT=D&SUBKEY=%22CEU+Legal+Studies+Department+PhD+theses%22/1%2C42%2C42%2CB/frameset&FF=X%22CEU+Legal+Studies+Department+PhD+theses%22&b=&l=&Da=&Db=&p=&m=v&SORT=D&12%2C12%2C\n",
      "no pdf link:  /search?/X%22CEU+Legal+Studies+Department+PhD+theses%22&b=&l=&Da=&Db=&p=&m=v&SORT=D/X%22CEU+Legal+Studies+Department+PhD+theses%22&b=&l=&Da=&Db=&p=&m=v&SORT=D&SUBKEY=%22CEU+Legal+Studies+Department+PhD+theses%22/1%2C42%2C42%2CB/frameset&FF=X%22CEU+Legal+Studies+Department+PhD+theses%22&b=&l=&Da=&Db=&p=&m=v&SORT=D&13%2C13%2C\n",
      "no pdf link:  /search?/X%22CEU+Legal+Studies+Department+PhD+theses%22&b=&l=&Da=&Db=&p=&m=v&SORT=D/X%22CEU+Legal+Studies+Department+PhD+theses%22&b=&l=&Da=&Db=&p=&m=v&SORT=D&SUBKEY=%22CEU+Legal+Studies+Department+PhD+theses%22/1%2C42%2C42%2CB/frameset&FF=X%22CEU+Legal+Studies+Department+PhD+theses%22&b=&l=&Da=&Db=&p=&m=v&SORT=D&14%2C14%2C\n",
      "no pdf link:  /search?/X%22CEU+Legal+Studies+Department+PhD+theses%22&b=&l=&Da=&Db=&p=&m=v&SORT=D/X%22CEU+Legal+Studies+Department+PhD+theses%22&b=&l=&Da=&Db=&p=&m=v&SORT=D&SUBKEY=%22CEU+Legal+Studies+Department+PhD+theses%22/1%2C42%2C42%2CB/frameset&FF=X%22CEU+Legal+Studies+Department+PhD+theses%22&b=&l=&Da=&Db=&p=&m=v&SORT=D&16%2C16%2C\n",
      "no pdf link:  /search?/X%22CEU+Medieval+Studies+Department+PhD+theses%22&b=&l=&Da=&Db=&p=&m=v&SORT=D/X%22CEU+Medieval+Studies+Department+PhD+theses%22&b=&l=&Da=&Db=&p=&m=v&SORT=D&SUBKEY=%22CEU+Medieval+Studies+Department+PhD+theses%22/1%2C74%2C74%2CB/frameset&FF=X%22CEU+Medieval+Studies+Department+PhD+theses%22&b=&l=&Da=&Db=&p=&m=v&SORT=D&13%2C13%2C\n",
      "no pdf link:  /search?/X%22CEU+Nationalism+Studies+master+theses%22&b=&l=&Da=2020&Db=2020&SORT=D&m=v/X%22CEU+Nationalism+Studies+master+theses%22&b=&l=&Da=2020&Db=2020&SORT=D&m=v&SUBKEY=%22CEU+Nationalism+Studies+master+theses%22/1%2C25%2C25%2CB/frameset&FF=X%22CEU+Nationalism+Studies+master+theses%22&b=&l=&Da=2020&Db=2020&SORT=D&m=v&24%2C24%2C\n",
      "no pdf link:  /search?/X+%22CEU+Political+Science+Department+master+theses%22&b=&l=&Da=2018&Db=2018&p=&m=v&SORT=A/X+%22CEU+Political+Science+Department+master+theses%22&b=&l=&Da=2018&Db=2018&p=&m=v&SORT=A&SUBKEY=+%22CEU+Political+Science+Department+master+theses%22/1%2C43%2C43%2CB/frameset&FF=X+%22CEU+Political+Science+Department+master+theses%22&b=&l=&Da=2018&Db=2018&p=&m=v&SORT=A&33%2C33%2C\n",
      "no pdf link:  /search?/X+%22CEU+Political+Science+Department+master+theses%22&b=&l=&Da=2018&Db=2018&p=&m=v&SORT=A/X+%22CEU+Political+Science+Department+master+theses%22&b=&l=&Da=2018&Db=2018&p=&m=v&SORT=A&SUBKEY=+%22CEU+Political+Science+Department+master+theses%22/1%2C43%2C43%2CB/frameset&FF=X+%22CEU+Political+Science+Department+master+theses%22&b=&l=&Da=2018&Db=2018&p=&m=v&SORT=A&39%2C39%2C\n",
      "no pdf link:  /search?/X+%22CEU+Political+Science+Department+master+theses%22&b=&l=&Da=2020&Db=2020&p=&m=v&SORT=A/X+%22CEU+Political+Science+Department+master+theses%22&b=&l=&Da=2020&Db=2020&p=&m=v&SORT=A&SUBKEY=+%22CEU+Political+Science+Department+master+theses%22/1%2C42%2C42%2CB/frameset&FF=X+%22CEU+Political+Science+Department+master+theses%22&b=&l=&Da=2020&Db=2020&p=&m=v&SORT=A&3%2C3%2C\n",
      "no pdf link:  /search?/X+%22CEU+Political+Science+Department+master+theses%22&b=&l=&Da=2020&Db=2020&p=&m=v&SORT=A/X+%22CEU+Political+Science+Department+master+theses%22&b=&l=&Da=2020&Db=2020&p=&m=v&SORT=A&SUBKEY=+%22CEU+Political+Science+Department+master+theses%22/1%2C42%2C42%2CB/frameset&FF=X+%22CEU+Political+Science+Department+master+theses%22&b=&l=&Da=2020&Db=2020&p=&m=v&SORT=A&6%2C6%2C\n"
     ]
    },
    {
     "name": "stdout",
     "output_type": "stream",
     "text": [
      "no pdf link:  /search?/X+%22CEU+Political+Science+Department+master+theses%22&b=&l=&Da=2020&Db=2020&p=&m=v&SORT=A/X+%22CEU+Political+Science+Department+master+theses%22&b=&l=&Da=2020&Db=2020&p=&m=v&SORT=A&SUBKEY=+%22CEU+Political+Science+Department+master+theses%22/1%2C42%2C42%2CB/frameset&FF=X+%22CEU+Political+Science+Department+master+theses%22&b=&l=&Da=2020&Db=2020&p=&m=v&SORT=A&36%2C36%2C\n",
      "no pdf link:  /search?/X(%22CEU+School+of+Public+Policy+master+theses%22)&Da=2018&Db=2018&SORT=AX/X(%22CEU+School+of+Public+Policy+master+theses%22)&Da=2018&Db=2018&SORT=AX&SUBKEY=(%22CEU+School+of+Public+Policy+master+theses%22)/1%2C41%2C41%2CB/frameset&FF=X(%22CEU+School+of+Public+Policy+master+theses%22)&Da=2018&Db=2018&SORT=AX&37%2C37%2C\n",
      "no pdf link:  /search?/X%22CEU+Sociology+Department+master+theses%22&b=&l=&Da=2018&Db=2018&p=&m=v&SORT=A/X%22CEU+Sociology+Department+master+theses%22&b=&l=&Da=2018&Db=2018&p=&m=v&SORT=A&SUBKEY=%22CEU+Sociology+Department+master+theses%22/1%2C22%2C22%2CB/frameset&FF=X%22CEU+Sociology+Department+master+theses%22&b=&l=&Da=2018&Db=2018&p=&m=v&SORT=A&4%2C4%2C\n",
      "no pdf link:  /search?/X%22CEU+Sociology+Department+master+theses%22&b=&l=&Da=2020&Db=2020&p=&m=v&SORT=A/X%22CEU+Sociology+Department+master+theses%22&b=&l=&Da=2020&Db=2020&p=&m=v&SORT=A&SUBKEY=%22CEU+Sociology+Department+master+theses%22/1%2C27%2C27%2CB/frameset&FF=X%22CEU+Sociology+Department+master+theses%22&b=&l=&Da=2020&Db=2020&p=&m=v&SORT=A&8%2C8%2C\n",
      "no pdf link:  /search?/X%22CEU+Sociology+Department+master+theses%22&b=&l=&Da=2020&Db=2020&p=&m=v&SORT=A/X%22CEU+Sociology+Department+master+theses%22&b=&l=&Da=2020&Db=2020&p=&m=v&SORT=A&SUBKEY=%22CEU+Sociology+Department+master+theses%22/1%2C27%2C27%2CB/frameset&FF=X%22CEU+Sociology+Department+master+theses%22&b=&l=&Da=2020&Db=2020&p=&m=v&SORT=A&17%2C17%2C\n",
      "no pdf link:  /search?/X%22+Sociology+Department%22+PhD&b=&l=&Da=&Db=&p=&m=v&SORT=D/X%22+Sociology+Department%22+PhD&b=&l=&Da=&Db=&p=&m=v&SORT=D&SUBKEY=%22+Sociology+Department%22+PhD/1%2C36%2C36%2CB/frameset&FF=X%22+Sociology+Department%22+PhD&b=&l=&Da=&Db=&p=&m=v&SORT=D&2%2C2%2C\n",
      "\n"
     ]
    }
   ],
   "source": [
    "for index,row in tqdm(theses_df.iterrows(), total=theses_df.shape[0]):\n",
    "    \n",
    "    page=BeautifulSoup(requests.get(\"https://sierra.ceu.edu\"+row['thesis_link'],headers={'User-Agent':str(ua.random)}).content)\n",
    "    \n",
    "    try:\n",
    "        theses_df.loc[index,\"thesis_link\"]=\"https://sierra.ceu.edu\"+page.find(id='recordnum').get('href')\n",
    "    except:\n",
    "        # if there is no new permanent link in the database we keep the original query\n",
    "        pass\n",
    "    \n",
    "    try:\n",
    "        theses_df.loc[index,\"pdf_link\"]=[s.get('href') for s in page.find('table',{\"class\":\"bibLinks\"}).find_all('a') if \".pdf\" in s.get('href')][0]\n",
    "    except:\n",
    "        print(\"no pdf link: \",row['thesis_link'])\n",
    "        \n",
    "    theses_df.loc[index,\"data_dict\"]=str(dict(\n",
    "    zip(\n",
    "        pd.Series(page.find_all(\"td\", {\"class\": \"bibInfoLabel\"})).apply(\n",
    "            lambda x: x.get_text()\n",
    "        ),\n",
    "        pd.Series(page.find_all(\"td\", {\"class\": \"bibInfoData\"})).apply(\n",
    "            lambda x: x.get_text().strip()\n",
    "        ),\n",
    "    )\n",
    "))"
   ]
  },
  {
   "cell_type": "markdown",
   "metadata": {},
   "source": [
    "theses_df.loc[0,\"thesis_link\"]=\"/search?/X+%22CEU+Economics+Department+master+theses%22&b=&l=&Da=2007&Db=2007&p=&m=v&SORT=A/X+%22CEU+Economics+Department+master+theses%22&b=&l=&Da=2007&Db=2007&p=&m=v&SORT=A&SUBKEY=+%22CEU+Economics+Department+master+theses%22/1%2C35%2C35%2CB/frameset&FF=X+%22CEU+Economics+Department+master+theses%22&b=&l=&Da=2007&Db=2007&p=&m=v&SORT=A&1%2C1%2C\""
   ]
  },
  {
   "cell_type": "code",
   "execution_count": 312,
   "metadata": {},
   "outputs": [],
   "source": [
    "final=pd.concat([theses_df.drop(['data_dict'],axis=1).reset_index(drop=True),pd.json_normalize(theses_df.data_dict.apply(lambda x: eval(x)))],axis=1)"
   ]
  },
  {
   "cell_type": "markdown",
   "metadata": {},
   "source": [
    "final.subject"
   ]
  },
  {
   "cell_type": "code",
   "execution_count": 314,
   "metadata": {},
   "outputs": [],
   "source": [
    "final.to_csv('final_almost.csv')"
   ]
  },
  {
   "cell_type": "code",
   "execution_count": 6,
   "metadata": {},
   "outputs": [],
   "source": [
    "theses_full=pd.read_csv('backup_full.csv')"
   ]
  },
  {
   "cell_type": "code",
   "execution_count": 10,
   "metadata": {},
   "outputs": [
    {
     "data": {
      "text/plain": [
       "(5825, 6)"
      ]
     },
     "execution_count": 10,
     "metadata": {},
     "output_type": "execute_result"
    }
   ],
   "source": [
    "theses_full.shape"
   ]
  },
  {
   "cell_type": "code",
   "execution_count": 12,
   "metadata": {},
   "outputs": [
    {
     "data": {
      "text/html": [
       "<div>\n",
       "<style scoped>\n",
       "    .dataframe tbody tr th:only-of-type {\n",
       "        vertical-align: middle;\n",
       "    }\n",
       "\n",
       "    .dataframe tbody tr th {\n",
       "        vertical-align: top;\n",
       "    }\n",
       "\n",
       "    .dataframe thead th {\n",
       "        text-align: right;\n",
       "    }\n",
       "</style>\n",
       "<table border=\"1\" class=\"dataframe\">\n",
       "  <thead>\n",
       "    <tr style=\"text-align: right;\">\n",
       "      <th></th>\n",
       "      <th>department</th>\n",
       "      <th>program</th>\n",
       "      <th>lib_link</th>\n",
       "      <th>year</th>\n",
       "      <th>thesis_in_that_year</th>\n",
       "      <th>thesis_link</th>\n",
       "      <th>pdf_link</th>\n",
       "      <th>Author</th>\n",
       "      <th>Title</th>\n",
       "      <th>Published</th>\n",
       "      <th>...</th>\n",
       "      <th>Series</th>\n",
       "      <th>Language</th>\n",
       "      <th>Summary</th>\n",
       "      <th>Note</th>\n",
       "      <th>File Type</th>\n",
       "      <th>Local note</th>\n",
       "      <th>Access</th>\n",
       "      <th>System Det</th>\n",
       "      <th>Subject</th>\n",
       "      <th>Alt Title</th>\n",
       "    </tr>\n",
       "  </thead>\n",
       "  <tbody>\n",
       "    <tr>\n",
       "      <th>0</th>\n",
       "      <td>Economics</td>\n",
       "      <td>MA</td>\n",
       "      <td>https://tinyurl.com/ecoma2018</td>\n",
       "      <td>2018</td>\n",
       "      <td>52</td>\n",
       "      <td>https://sierra.ceu.edu/record=b1318696</td>\n",
       "      <td>http://www.etd.ceu.edu/2018/esendi_lynda.pdf</td>\n",
       "      <td>Esendi, Lynda Frida</td>\n",
       "      <td>Alleviating strike actions in the healthcare s...</td>\n",
       "      <td>Budapest : Central European University, 2018</td>\n",
       "      <td>...</td>\n",
       "      <td>CEU Economics Department master theses ; 2018/1</td>\n",
       "      <td>English</td>\n",
       "      <td>A review of the Kenya healthcare system shows ...</td>\n",
       "      <td>Degree: MA</td>\n",
       "      <td>PDF file (1524k)</td>\n",
       "      <td>ETD</td>\n",
       "      <td>Unrestricted</td>\n",
       "      <td>System requirements: Adobe Acrobat Reader; Pos...</td>\n",
       "      <td>NaN</td>\n",
       "      <td>NaN</td>\n",
       "    </tr>\n",
       "    <tr>\n",
       "      <th>1</th>\n",
       "      <td>Economics</td>\n",
       "      <td>MA</td>\n",
       "      <td>https://tinyurl.com/ecoma2018</td>\n",
       "      <td>2018</td>\n",
       "      <td>52</td>\n",
       "      <td>https://sierra.ceu.edu/record=b1410971</td>\n",
       "      <td>http://www.etd.ceu.edu/2018/chytil_mario.pdf</td>\n",
       "      <td>Chytil, Marió</td>\n",
       "      <td>Analysis of deviations of reticuloruminal pH d...</td>\n",
       "      <td>Budapest : Central European University, 2018</td>\n",
       "      <td>...</td>\n",
       "      <td>CEU Economics Department master theses ; 2018/51</td>\n",
       "      <td>English</td>\n",
       "      <td>My Capstone Project is aimed at describing the...</td>\n",
       "      <td>Degree: MSc</td>\n",
       "      <td>PDF file (166k)</td>\n",
       "      <td>ETD</td>\n",
       "      <td>Capstone  project</td>\n",
       "      <td>Unrestricted</td>\n",
       "      <td>NaN</td>\n",
       "      <td>NaN</td>\n",
       "    </tr>\n",
       "    <tr>\n",
       "      <th>2</th>\n",
       "      <td>Economics</td>\n",
       "      <td>MA</td>\n",
       "      <td>https://tinyurl.com/ecoma2018</td>\n",
       "      <td>2018</td>\n",
       "      <td>52</td>\n",
       "      <td>https://sierra.ceu.edu/record=b1410983</td>\n",
       "      <td>http://www.etd.ceu.edu/2019/ronai_dora.pdf</td>\n",
       "      <td>R贸nai, D贸ra</td>\n",
       "      <td>Asset audit and compliance in FAO  / D贸ra R贸nai</td>\n",
       "      <td>Budapest : Central European University, 2018</td>\n",
       "      <td>...</td>\n",
       "      <td>CEU Economics Department master theses ; 2018/44</td>\n",
       "      <td>English</td>\n",
       "      <td>Asset Audit and Compliance in FAO</td>\n",
       "      <td>Degree: MSc</td>\n",
       "      <td>PDF file (566k)</td>\n",
       "      <td>ETD</td>\n",
       "      <td>Capstone  project</td>\n",
       "      <td>Unrestricted</td>\n",
       "      <td>NaN</td>\n",
       "      <td>NaN</td>\n",
       "    </tr>\n",
       "    <tr>\n",
       "      <th>3</th>\n",
       "      <td>Economics</td>\n",
       "      <td>MA</td>\n",
       "      <td>https://tinyurl.com/ecoma2018</td>\n",
       "      <td>2018</td>\n",
       "      <td>52</td>\n",
       "      <td>https://sierra.ceu.edu/record=b1410974</td>\n",
       "      <td>http://www.etd.ceu.edu/2018/menyhert_kristof.pdf</td>\n",
       "      <td>Menyhért, Kristóf</td>\n",
       "      <td>An attempt to optimize a questionnaire-based r...</td>\n",
       "      <td>Budapest : Central European University, 2018</td>\n",
       "      <td>...</td>\n",
       "      <td>CEU Economics Department master theses ; 2018/42</td>\n",
       "      <td>English</td>\n",
       "      <td>An attempt to optimize a questionnaire-based r...</td>\n",
       "      <td>Degree: MSc</td>\n",
       "      <td>PDF file (860k)</td>\n",
       "      <td>ETD</td>\n",
       "      <td>Capstone  project</td>\n",
       "      <td>Unrestricted</td>\n",
       "      <td>NaN</td>\n",
       "      <td>NaN</td>\n",
       "    </tr>\n",
       "    <tr>\n",
       "      <th>4</th>\n",
       "      <td>Economics</td>\n",
       "      <td>MA</td>\n",
       "      <td>https://tinyurl.com/ecoma2018</td>\n",
       "      <td>2018</td>\n",
       "      <td>52</td>\n",
       "      <td>https://sierra.ceu.edu/record=b1399987</td>\n",
       "      <td>http://www.etd.ceu.edu/2018/nazaruk_anna.pdf</td>\n",
       "      <td>Nazaruk, Anna</td>\n",
       "      <td>Bitcoin 2017 : was there a bubble? / Anna Nazaruk</td>\n",
       "      <td>Budapest : Central European University, 2018</td>\n",
       "      <td>...</td>\n",
       "      <td>CEU Economics Department master theses ; 2018/29</td>\n",
       "      <td>English</td>\n",
       "      <td>This research examines existence of Bitcoin bu...</td>\n",
       "      <td>Degree: MA</td>\n",
       "      <td>PDF file (669k)</td>\n",
       "      <td>ETD</td>\n",
       "      <td>Unrestricted</td>\n",
       "      <td>System requirements: Adobe Acrobat Reader; Pos...</td>\n",
       "      <td>NaN</td>\n",
       "      <td>NaN</td>\n",
       "    </tr>\n",
       "  </tbody>\n",
       "</table>\n",
       "<p>5 rows × 21 columns</p>\n",
       "</div>"
      ],
      "text/plain": [
       "  department program                       lib_link  year  \\\n",
       "0  Economics      MA  https://tinyurl.com/ecoma2018  2018   \n",
       "1  Economics      MA  https://tinyurl.com/ecoma2018  2018   \n",
       "2  Economics      MA  https://tinyurl.com/ecoma2018  2018   \n",
       "3  Economics      MA  https://tinyurl.com/ecoma2018  2018   \n",
       "4  Economics      MA  https://tinyurl.com/ecoma2018  2018   \n",
       "\n",
       "   thesis_in_that_year                             thesis_link  \\\n",
       "0                   52  https://sierra.ceu.edu/record=b1318696   \n",
       "1                   52  https://sierra.ceu.edu/record=b1410971   \n",
       "2                   52  https://sierra.ceu.edu/record=b1410983   \n",
       "3                   52  https://sierra.ceu.edu/record=b1410974   \n",
       "4                   52  https://sierra.ceu.edu/record=b1399987   \n",
       "\n",
       "                                            pdf_link               Author  \\\n",
       "0      http://www.etd.ceu.edu/2018/esendi_lynda.pdf   Esendi, Lynda Frida   \n",
       "1      http://www.etd.ceu.edu/2018/chytil_mario.pdf         Chytil, Marió   \n",
       "2        http://www.etd.ceu.edu/2019/ronai_dora.pdf           R贸nai, D贸ra   \n",
       "3  http://www.etd.ceu.edu/2018/menyhert_kristof.pdf     Menyhért, Kristóf   \n",
       "4      http://www.etd.ceu.edu/2018/nazaruk_anna.pdf         Nazaruk, Anna   \n",
       "\n",
       "                                               Title  \\\n",
       "0  Alleviating strike actions in the healthcare s...   \n",
       "1  Analysis of deviations of reticuloruminal pH d...   \n",
       "2    Asset audit and compliance in FAO  / D贸ra R贸nai   \n",
       "3  An attempt to optimize a questionnaire-based r...   \n",
       "4  Bitcoin 2017 : was there a bubble? / Anna Nazaruk   \n",
       "\n",
       "                                      Published  ...  \\\n",
       "0  Budapest : Central European University, 2018  ...   \n",
       "1  Budapest : Central European University, 2018  ...   \n",
       "2  Budapest : Central European University, 2018  ...   \n",
       "3  Budapest : Central European University, 2018  ...   \n",
       "4  Budapest : Central European University, 2018  ...   \n",
       "\n",
       "                                             Series Language  \\\n",
       "0   CEU Economics Department master theses ; 2018/1  English   \n",
       "1  CEU Economics Department master theses ; 2018/51  English   \n",
       "2  CEU Economics Department master theses ; 2018/44  English   \n",
       "3  CEU Economics Department master theses ; 2018/42  English   \n",
       "4  CEU Economics Department master theses ; 2018/29  English   \n",
       "\n",
       "                                             Summary         Note  \\\n",
       "0  A review of the Kenya healthcare system shows ...   Degree: MA   \n",
       "1  My Capstone Project is aimed at describing the...  Degree: MSc   \n",
       "2                  Asset Audit and Compliance in FAO  Degree: MSc   \n",
       "3  An attempt to optimize a questionnaire-based r...  Degree: MSc   \n",
       "4  This research examines existence of Bitcoin bu...   Degree: MA   \n",
       "\n",
       "          File Type Local note             Access  \\\n",
       "0  PDF file (1524k)        ETD       Unrestricted   \n",
       "1   PDF file (166k)        ETD  Capstone  project   \n",
       "2   PDF file (566k)        ETD  Capstone  project   \n",
       "3   PDF file (860k)        ETD  Capstone  project   \n",
       "4   PDF file (669k)        ETD       Unrestricted   \n",
       "\n",
       "                                          System Det Subject Alt Title  \n",
       "0  System requirements: Adobe Acrobat Reader; Pos...     NaN       NaN  \n",
       "1                                       Unrestricted     NaN       NaN  \n",
       "2                                       Unrestricted     NaN       NaN  \n",
       "3                                       Unrestricted     NaN       NaN  \n",
       "4  System requirements: Adobe Acrobat Reader; Pos...     NaN       NaN  \n",
       "\n",
       "[5 rows x 21 columns]"
      ]
     },
     "execution_count": 12,
     "metadata": {},
     "output_type": "execute_result"
    }
   ],
   "source": [
    "final.head()"
   ]
  },
  {
   "cell_type": "code",
   "execution_count": 11,
   "metadata": {},
   "outputs": [],
   "source": [
    "final=final.drop(['Unnamed: 0'],axis=1)"
   ]
  },
  {
   "cell_type": "code",
   "execution_count": 19,
   "metadata": {},
   "outputs": [
    {
     "data": {
      "text/plain": [
       "(1727,)"
      ]
     },
     "execution_count": 19,
     "metadata": {},
     "output_type": "execute_result"
    }
   ],
   "source": [
    "final['thesis_link'].drop_duplicates().shape"
   ]
  },
  {
   "cell_type": "code",
   "execution_count": 23,
   "metadata": {},
   "outputs": [
    {
     "data": {
      "text/html": [
       "<div>\n",
       "<style scoped>\n",
       "    .dataframe tbody tr th:only-of-type {\n",
       "        vertical-align: middle;\n",
       "    }\n",
       "\n",
       "    .dataframe tbody tr th {\n",
       "        vertical-align: top;\n",
       "    }\n",
       "\n",
       "    .dataframe thead th {\n",
       "        text-align: right;\n",
       "    }\n",
       "</style>\n",
       "<table border=\"1\" class=\"dataframe\">\n",
       "  <thead>\n",
       "    <tr style=\"text-align: right;\">\n",
       "      <th></th>\n",
       "      <th>n</th>\n",
       "    </tr>\n",
       "    <tr>\n",
       "      <th>program</th>\n",
       "      <th></th>\n",
       "    </tr>\n",
       "  </thead>\n",
       "  <tbody>\n",
       "    <tr>\n",
       "      <th>Business</th>\n",
       "      <td>40</td>\n",
       "    </tr>\n",
       "    <tr>\n",
       "      <th>Cultural</th>\n",
       "      <td>24</td>\n",
       "    </tr>\n",
       "    <tr>\n",
       "      <th>MA</th>\n",
       "      <td>948</td>\n",
       "    </tr>\n",
       "    <tr>\n",
       "      <th>MESPOM</th>\n",
       "      <td>41</td>\n",
       "    </tr>\n",
       "    <tr>\n",
       "      <th>MSc</th>\n",
       "      <td>129</td>\n",
       "    </tr>\n",
       "    <tr>\n",
       "      <th>PhD</th>\n",
       "      <td>546</td>\n",
       "    </tr>\n",
       "  </tbody>\n",
       "</table>\n",
       "</div>"
      ],
      "text/plain": [
       "            n\n",
       "program      \n",
       "Business   40\n",
       "Cultural   24\n",
       "MA        948\n",
       "MESPOM     41\n",
       "MSc       129\n",
       "PhD       546"
      ]
     },
     "execution_count": 23,
     "metadata": {},
     "output_type": "execute_result"
    }
   ],
   "source": [
    "final.groupby(['program']).agg(n=('year','size'))"
   ]
  },
  {
   "cell_type": "code",
   "execution_count": 24,
   "metadata": {},
   "outputs": [
    {
     "data": {
      "text/plain": [
       "1142"
      ]
     },
     "execution_count": 24,
     "metadata": {},
     "output_type": "execute_result"
    }
   ],
   "source": [
    "948+24+41+129"
   ]
  },
  {
   "cell_type": "code",
   "execution_count": 27,
   "metadata": {},
   "outputs": [],
   "source": [
    "ma_sample=final.loc[final.program.isin(['MA','MSc','MESPOM','Cultural'])].sample(n=100,random_state=20201218)"
   ]
  },
  {
   "cell_type": "code",
   "execution_count": 30,
   "metadata": {},
   "outputs": [],
   "source": [
    "phd_sample=final.loc[final.program.isin(['PhD'])].sample(n=30,random_state=20201218)"
   ]
  },
  {
   "cell_type": "code",
   "execution_count": 32,
   "metadata": {
    "scrolled": false
   },
   "outputs": [],
   "source": [
    "business_sample=final.loc[final.program.isin(['Business'])].sample(n=10,random_state=20201218)"
   ]
  },
  {
   "cell_type": "code",
   "execution_count": 34,
   "metadata": {},
   "outputs": [],
   "source": [
    "ma_sample.to_csv('MA_100.csv',index=False)"
   ]
  },
  {
   "cell_type": "code",
   "execution_count": 35,
   "metadata": {},
   "outputs": [],
   "source": [
    "phd_sample.to_csv('PHD_30.csv',index=False)"
   ]
  },
  {
   "cell_type": "code",
   "execution_count": 36,
   "metadata": {},
   "outputs": [],
   "source": [
    "business_sample.to_csv('Business_10.csv',index=False)"
   ]
  }
 ],
 "metadata": {
  "kernelspec": {
   "display_name": "Python 3",
   "language": "python",
   "name": "python3"
  },
  "language_info": {
   "codemirror_mode": {
    "name": "ipython",
    "version": 3
   },
   "file_extension": ".py",
   "mimetype": "text/x-python",
   "name": "python",
   "nbconvert_exporter": "python",
   "pygments_lexer": "ipython3",
   "version": "3.8.6"
  }
 },
 "nbformat": 4,
 "nbformat_minor": 4
}
